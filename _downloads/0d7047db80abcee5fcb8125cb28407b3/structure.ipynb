{
 "cells": [
  {
   "cell_type": "code",
   "execution_count": null,
   "id": "c4d21ebc",
   "metadata": {},
   "outputs": [],
   "source": [
    "import pybinding as pb\n",
    "import numpy as np\n",
    "import matplotlib.pyplot as plt\n",
    "\n",
    "pb.pltutils.use_style()\n",
    "%matplotlib inline"
   ]
  },
  {
   "cell_type": "markdown",
   "id": "57b9708a",
   "metadata": {},
   "source": [
    "# Model structure\n",
    "\n",
    "A structure plot presents the crystal structure of a model by drawing lattice sites as circles and hoppings as lines which connect the circles. At first glance, this seems like a combination of the standard scatter and line plots found in matplotlib, but the specific requirements of tight-binding complicate the implementation. This is why pybinding has its own specialized structure plotting functions. While these functions are based on matplotlib, they offer additional options which will be explained here.\n",
    "\n",
    "[Download this page as a Jupyter notebook](http://docs.pybinding.site/page/_downloads/0d7047db80abcee5fcb8125cb28407b3/structure.ipynb)\n",
    "\n",
    "## Structure plot classes\n",
    "\n",
    "A few different classes in pybinding use structure plots. These are [`Lattice`](http://docs.pybinding.site/page/plotting/../_api/pybinding.Lattice.html#pybinding.Lattice), [`Model`](http://docs.pybinding.site/page/plotting/../_api/pybinding.Model.html#pybinding.Model), [`System`](http://docs.pybinding.site/page/plotting/../_api/pybinding.system.html#pybinding.system.System), [`Lead`](http://docs.pybinding.site/page/plotting/../_api/pybinding.leads.html#pybinding.leads.Lead) and [`StructureMap`](http://docs.pybinding.site/page/plotting/../_api/pybinding.StructureMap.html#pybinding.StructureMap). They all represent some kind of spatial structure with sites and hoppings. Note that most of these classes are components of the main [`Model`](http://docs.pybinding.site/page/plotting/../_api/pybinding.Model.html#pybinding.Model). Calling their plot methods will draw the structure which they represent. The following pseudo-code presents a few possibilities:\n",
    "\n",
    "```python\n",
    "model = pb.Model(...)  # specify model\n",
    "model.attach_lead(...)  # specify leads\n",
    "\n",
    "model.lattice.plot()  # just the unit cell\n",
    "model.plot()  # the main system and leads\n",
    "model.system.plot()  # only the main system\n",
    "model.leads[0].plot()  # only lead 0\n",
    "```\n",
    "\n",
    "In the following sections we’ll present a few features of the structure plotting API. The examples will involve mainly `Model.plot()`, but all of these methods share the same common API.\n",
    "\n",
    "## Draw only certain hoppings\n",
    "\n",
    "The structure plot usually draws lines for all hoppings. We can see an example here with the third-nearest-neighbor model of graphene. Note the huge number of hoppings in the figure below. The extra information may be useful for calculations, but it is not always desirable for figures because of the extra noise. To filter out some of the lines, we can pass the `draw_only` argument as a list of hopping names. For example, if we only want the first-nearest neighbors:"
   ]
  },
  {
   "cell_type": "code",
   "execution_count": null,
   "id": "17279e60",
   "metadata": {},
   "outputs": [],
   "source": [
    "from pybinding.repository import graphene\n",
    "\n",
    "plt.figure(figsize=(7, 3))\n",
    "model = pb.Model(graphene.monolayer(nearest_neighbors=3), graphene.hexagon_ac(1))\n",
    "\n",
    "plt.subplot(121, title=\"Unfiltered: all 3 hoppings\")\n",
    "model.plot()\n",
    "\n",
    "plt.subplot(122, title=\"Filtered: shows only nearest\")\n",
    "model.plot(hopping={'draw_only': ['t']})"
   ]
  },
  {
   "cell_type": "markdown",
   "id": "00e3f694",
   "metadata": {},
   "source": [
    "We can also select hoppings in any combination:"
   ]
  },
  {
   "cell_type": "code",
   "execution_count": null,
   "id": "712847f2",
   "metadata": {},
   "outputs": [],
   "source": [
    "plt.figure(figsize=(7, 3))\n",
    "\n",
    "plt.subplot(121, title=\"$t$ and $t_{nn}$\")\n",
    "model.plot(hopping={'draw_only': ['t', 't_nn']})\n",
    "\n",
    "plt.subplot(122, title=\"$t$ and $t_{nnn}$\")\n",
    "model.plot(hopping={'draw_only': ['t', 't_nnn']})"
   ]
  },
  {
   "cell_type": "markdown",
   "id": "1538576a",
   "metadata": {},
   "source": [
    "## Site radius and color\n",
    "\n",
    "The site radius is given in data units (nanometers in this example). Colors are passed as a list of colors or a matplotlib colormap."
   ]
  },
  {
   "cell_type": "code",
   "execution_count": null,
   "id": "3f826c9e",
   "metadata": {},
   "outputs": [],
   "source": [
    "plt.figure(figsize=(7, 3))\n",
    "model = pb.Model(graphene.monolayer(), graphene.hexagon_ac(0.5))\n",
    "\n",
    "plt.subplot(121, title=\"Default\")\n",
    "model.plot()\n",
    "\n",
    "plt.subplot(122, title=\"Customized\")\n",
    "model.plot(site={'radius': 0.04, 'cmap': ['blue', 'red']})"
   ]
  },
  {
   "cell_type": "markdown",
   "id": "e5cda200",
   "metadata": {},
   "source": [
    "## Hopping width and color\n",
    "\n",
    "By default, all hopping kinds (nearest, next-nearest, etc.) are shown using the same line color, but they can be colorized using the `cmap` parameter."
   ]
  },
  {
   "cell_type": "code",
   "execution_count": null,
   "id": "e8399d09",
   "metadata": {},
   "outputs": [],
   "source": [
    "plt.figure(figsize=(7, 3))\n",
    "model = pb.Model(graphene.monolayer(nearest_neighbors=3), pb.rectangle(0.6))\n",
    "\n",
    "plt.subplot(121, title=\"Default\")\n",
    "model.plot()\n",
    "\n",
    "plt.subplot(122, title=\"Customized\")\n",
    "model.plot(hopping={'width': 2, 'cmap': 'auto'})"
   ]
  },
  {
   "cell_type": "markdown",
   "id": "c98caaaa",
   "metadata": {},
   "source": [
    "## Redraw all axes spines\n",
    "\n",
    "By default, pybinding plots will remove the right and top axes spines. To recover those lines call the [`pltutils.respine()`](http://docs.pybinding.site/page/plotting/../_api/pybinding.pltutils.html#pybinding.pltutils.respine) function."
   ]
  },
  {
   "cell_type": "code",
   "execution_count": null,
   "id": "651a98c7",
   "metadata": {},
   "outputs": [],
   "source": [
    "model = pb.Model(graphene.monolayer(), graphene.hexagon_ac(1))\n",
    "model.plot()\n",
    "pb.pltutils.respine()"
   ]
  },
  {
   "cell_type": "markdown",
   "id": "605239fc",
   "metadata": {},
   "source": [
    "## Plot only sites or only hoppings\n",
    "\n",
    "It can sometimes be useful to separate the plotting of sites and hoppings. Notably, for large systems drawing a huge number of hopping lines can become quite slow and they may even be too small to actually see in the figure. In such cases, removing the hoppings can speed up plotting considerably. Another use case is for the composition of multiple plots – see the next page for an example."
   ]
  },
  {
   "cell_type": "code",
   "execution_count": null,
   "id": "37bd4ad9",
   "metadata": {},
   "outputs": [],
   "source": [
    "plt.figure(figsize=(7, 3))\n",
    "model = pb.Model(graphene.monolayer(), graphene.hexagon_ac(1))\n",
    "\n",
    "plt.subplot(121, title=\"Only sites\")\n",
    "model.plot(hopping={\"width\": 0})\n",
    "\n",
    "plt.subplot(122, title=\"Only hoppings\")\n",
    "model.plot(site={\"radius\": 0})"
   ]
  },
  {
   "cell_type": "markdown",
   "id": "8498fc2d",
   "metadata": {},
   "source": [
    "## Rotating the view\n",
    "\n",
    "By default, all structure plots show the xy-plane. The view can be rotated by settings the `axes` argument to a string consisting of any combination of the letters “x”, “y” and “z”."
   ]
  },
  {
   "cell_type": "code",
   "execution_count": null,
   "id": "deee5595",
   "metadata": {},
   "outputs": [],
   "source": [
    "model = pb.Model(graphene.monolayer().with_offset([-graphene.a / 2, 0]),\n",
    "                 pb.regular_polygon(num_sides=6, radius=1.8),\n",
    "                 graphene.gaussian_bump(height=0.7, sigma=0.7))\n",
    "\n",
    "plt.figure(figsize=(6.8, 7.5))\n",
    "plt.subplot(221, title=\"xy\", ylim=[-1.8, 1.8])\n",
    "model.plot()\n",
    "plt.subplot(222, title=\"xz\")\n",
    "model.plot(axes=\"xz\")\n",
    "plt.subplot(223, title=\"yx\", xlim=[-1.8, 1.8])\n",
    "model.plot(axes=\"yx\")\n",
    "plt.subplot(224, title=\"zy\")\n",
    "model.plot(axes=\"zy\")"
   ]
  },
  {
   "cell_type": "markdown",
   "id": "5803a08f",
   "metadata": {},
   "source": [
    "## Slicing layers\n",
    "\n",
    "For multilayer materials, it is sometimes useful to plot each layer individually."
   ]
  },
  {
   "cell_type": "code",
   "execution_count": null,
   "id": "0a8a3f6e",
   "metadata": {},
   "outputs": [],
   "source": [
    "model = pb.Model(graphene.bilayer().with_offset([graphene.a/2, 0]),\n",
    "                 pb.regular_polygon(num_sides=6, radius=1))\n",
    "\n",
    "plt.figure(figsize=(6.8, 1.8))\n",
    "plt.subplot(131, title=\"both layers\")\n",
    "model.plot()\n",
    "\n",
    "plt.subplot(132, title=\"bottom layer\")\n",
    "s = model.system\n",
    "s[s.z < 0].plot()\n",
    "\n",
    "plt.subplot(133, title=\"top layer\")\n",
    "s[s.z >= 0].plot()"
   ]
  }
 ],
 "metadata": {},
 "nbformat": 4,
 "nbformat_minor": 5
}