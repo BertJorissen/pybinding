{
 "cells": [
  {
   "cell_type": "code",
   "execution_count": null,
   "id": "9b43699e",
   "metadata": {},
   "outputs": [],
   "source": [
    "import pybinding as pb\n",
    "import numpy as np\n",
    "import matplotlib.pyplot as plt\n",
    "\n",
    "pb.pltutils.use_style()\n",
    "%matplotlib inline"
   ]
  },
  {
   "cell_type": "markdown",
   "id": "7d450e86",
   "metadata": {},
   "source": [
    "# Wavefunction calculations\n",
    "\n",
    "This section will introduce [`Wavefunction`](http://docs.pybinding.site/page/tutorial/../_api/pybinding.Wavefunction.html#pybinding.Wavefunction) which can be used to calculate effects that are connected to the properties in the eigenvectors, such as disentangling the bands, calculating the projected DOS, the spatial DOS and the Berry curvature.\n",
    "\n",
    "> For some of these properties, access to the [`Model`](http://docs.pybinding.site/page/tutorial/../_api/pybinding.Model.html#pybinding.Model)-object is needed. As a it is not possible to store a [`Model`](http://docs.pybinding.site/page/tutorial/../_api/pybinding.Model.html#pybinding.Model), save the required data during the calculation.\n",
    "\n",
    "Berry curvature Hamiltonian matrix is created.\n",
    "\n",
    "[Download this page as a Jupyter notebook](http://docs.pybinding.site/page/_downloads/a78fd1b5fafb484989c84d4297cb34b5/wavefunction.ipynb)\n",
    "\n",
    "## Berry"
   ]
  },
  {
   "cell_type": "code",
   "execution_count": null,
   "id": "379b5e79",
   "metadata": {},
   "outputs": [],
   "source": [
    "from pybinding.repository.group6_tmd import monolayer_3band\n",
    "lat = monolayer_3band(name=\"MoS2\")\n",
    "wfc_area = pb.solver.lapack(pb.Model(lat, pb.translational_symmetry())).calc_wavefunction_area(\n",
    "pb.make_area(*lat.reciprocal_vectors(), step=.1)\n",
    ")\n",
    "berry = pb.Berry(wfc_area)\n",
    "series_area = berry.calc_berry()\n",
    "series_area.area_plot()\n",
    "lat.plot_brillouin_zone()\n",
    "plt.show()"
   ]
  },
  {
   "cell_type": "markdown",
   "id": "c5f2e0ec",
   "metadata": {},
   "source": [
    "et voila"
   ]
  }
 ],
 "metadata": {},
 "nbformat": 4,
 "nbformat_minor": 5
}